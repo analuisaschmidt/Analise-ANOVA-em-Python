{
 "cells": [
  {
   "cell_type": "markdown",
   "metadata": {},
   "source": [
    "#### Problema:\n",
    "\n",
    "Foi realizada a comparação entre 3 tipos distintos de tratamento de solo com o solo sem tratamento, para a produção de soja, com o intúito de se descobrir/comprovar a eficácia dos tratamentos. \n",
    "\n",
    "Para essa análise, foram comparados os seguintes parametros: número de plantas que cresceu em cada segmento amostral, a produtividade, ou seja, quantidade de grãos por parcela que foi observada e o peso de mil grãos. "
   ]
  },
  {
   "cell_type": "markdown",
   "metadata": {},
   "source": [
    "#### Definição:\n",
    "\n",
    "A ANOVA é um teste paramétrico (possui estimativas de parâmetros) utilizado quando o pesquisador deseja verificar se existem diferenças entre as médias de uma determinada variável (variável resposta) em relação a um tratamento com dois ou mais níveis categóricos (variável preditora). A ANOVA é indicada para análises com um “n” amostral superior a 30.\n",
    "\n",
    "#### Premissas:\n",
    "\n",
    "Amostras independentes – isso significa que uma observação não pode ser influenciada pela anterior ou pela próxima. Esse pressuposto garante que os dados sejam coletados aleatoriamente dentro do espaço amostral.\n",
    "\n",
    "Homogeneidade das variâncias entre os grupos – as variância dentro de cada grupo é igual (ou pelo menos aproximadamente) àquela dentro de todos os grupos. Desta forma, cada tratamento contribui de forma igual para a soma dos quadrados.\n",
    "\n",
    "Resíduos seguem uma distribuição normal – assume-se que a média geral dos resíduos é igual a zero, ou seja, distribuem-se normalmente. Esse pressuposto não é muito restritivo dependendo do tamanho amostral."
   ]
  },
  {
   "cell_type": "markdown",
   "metadata": {},
   "source": [
    "# PRÉ-PROCESSAMENTO"
   ]
  },
  {
   "cell_type": "code",
   "execution_count": 1,
   "metadata": {},
   "outputs": [],
   "source": [
    "# Importando as bibliotecas\n",
    "import pandas as pd\n",
    "import numpy as np\n",
    "import scipy.stats as stats\n",
    "import researchpy as rp\n",
    "import statsmodels.api as sm\n",
    "from statsmodels.formula.api import ols\n",
    "import matplotlib.pyplot as plt"
   ]
  },
  {
   "cell_type": "code",
   "execution_count": 2,
   "metadata": {},
   "outputs": [],
   "source": [
    "# Carregando os dados\n",
    "matrix = pd.read_csv('colunas.csv')"
   ]
  },
  {
   "cell_type": "code",
   "execution_count": 3,
   "metadata": {},
   "outputs": [
    {
     "data": {
      "text/html": [
       "<div>\n",
       "<style scoped>\n",
       "    .dataframe tbody tr th:only-of-type {\n",
       "        vertical-align: middle;\n",
       "    }\n",
       "\n",
       "    .dataframe tbody tr th {\n",
       "        vertical-align: top;\n",
       "    }\n",
       "\n",
       "    .dataframe thead th {\n",
       "        text-align: right;\n",
       "    }\n",
       "</style>\n",
       "<table border=\"1\" class=\"dataframe\">\n",
       "  <thead>\n",
       "    <tr style=\"text-align: right;\">\n",
       "      <th></th>\n",
       "      <th>plntas ha-1</th>\n",
       "      <th>TRATAMENTO</th>\n",
       "      <th>Npla</th>\n",
       "      <th>PRODUTIVIDADE</th>\n",
       "      <th>Massa_mil</th>\n",
       "    </tr>\n",
       "  </thead>\n",
       "  <tbody>\n",
       "    <tr>\n",
       "      <th>0</th>\n",
       "      <td>1</td>\n",
       "      <td>D</td>\n",
       "      <td>66667</td>\n",
       "      <td>2695</td>\n",
       "      <td>190</td>\n",
       "    </tr>\n",
       "    <tr>\n",
       "      <th>1</th>\n",
       "      <td>2</td>\n",
       "      <td>A</td>\n",
       "      <td>77778</td>\n",
       "      <td>3260</td>\n",
       "      <td>180</td>\n",
       "    </tr>\n",
       "    <tr>\n",
       "      <th>2</th>\n",
       "      <td>3</td>\n",
       "      <td>C</td>\n",
       "      <td>65278</td>\n",
       "      <td>2985</td>\n",
       "      <td>170</td>\n",
       "    </tr>\n",
       "    <tr>\n",
       "      <th>3</th>\n",
       "      <td>4</td>\n",
       "      <td>B</td>\n",
       "      <td>75000</td>\n",
       "      <td>3245</td>\n",
       "      <td>210</td>\n",
       "    </tr>\n",
       "    <tr>\n",
       "      <th>4</th>\n",
       "      <td>5</td>\n",
       "      <td>C</td>\n",
       "      <td>83333</td>\n",
       "      <td>2995</td>\n",
       "      <td>180</td>\n",
       "    </tr>\n",
       "  </tbody>\n",
       "</table>\n",
       "</div>"
      ],
      "text/plain": [
       "   plntas ha-1 TRATAMENTO   Npla  PRODUTIVIDADE  Massa_mil\n",
       "0            1          D  66667           2695        190\n",
       "1            2          A  77778           3260        180\n",
       "2            3          C  65278           2985        170\n",
       "3            4          B  75000           3245        210\n",
       "4            5          C  83333           2995        180"
      ]
     },
     "execution_count": 3,
     "metadata": {},
     "output_type": "execute_result"
    }
   ],
   "source": [
    "matrix.head()"
   ]
  },
  {
   "cell_type": "code",
   "execution_count": 4,
   "metadata": {},
   "outputs": [],
   "source": [
    "matrix_dois = pd.read_csv('joao.csv')"
   ]
  },
  {
   "cell_type": "code",
   "execution_count": 5,
   "metadata": {},
   "outputs": [
    {
     "data": {
      "text/html": [
       "<div>\n",
       "<style scoped>\n",
       "    .dataframe tbody tr th:only-of-type {\n",
       "        vertical-align: middle;\n",
       "    }\n",
       "\n",
       "    .dataframe tbody tr th {\n",
       "        vertical-align: top;\n",
       "    }\n",
       "\n",
       "    .dataframe thead th {\n",
       "        text-align: right;\n",
       "    }\n",
       "</style>\n",
       "<table border=\"1\" class=\"dataframe\">\n",
       "  <thead>\n",
       "    <tr style=\"text-align: right;\">\n",
       "      <th></th>\n",
       "      <th>Mn foliar</th>\n",
       "      <th>Npla</th>\n",
       "      <th>Prod</th>\n",
       "      <th>MMG</th>\n",
       "    </tr>\n",
       "  </thead>\n",
       "  <tbody>\n",
       "    <tr>\n",
       "      <th>0</th>\n",
       "      <td>NaN</td>\n",
       "      <td>NaN</td>\n",
       "      <td>kg/ha</td>\n",
       "      <td>g</td>\n",
       "    </tr>\n",
       "    <tr>\n",
       "      <th>1</th>\n",
       "      <td>Sem</td>\n",
       "      <td>92188.0</td>\n",
       "      <td>3925</td>\n",
       "      <td>188</td>\n",
       "    </tr>\n",
       "    <tr>\n",
       "      <th>2</th>\n",
       "      <td>1 DAA</td>\n",
       "      <td>96007.0</td>\n",
       "      <td>3666</td>\n",
       "      <td>199</td>\n",
       "    </tr>\n",
       "    <tr>\n",
       "      <th>3</th>\n",
       "      <td>14 DAA</td>\n",
       "      <td>99132.0</td>\n",
       "      <td>3808</td>\n",
       "      <td>180</td>\n",
       "    </tr>\n",
       "    <tr>\n",
       "      <th>4</th>\n",
       "      <td>1/14 DAA</td>\n",
       "      <td>96701.0</td>\n",
       "      <td>3796</td>\n",
       "      <td>173</td>\n",
       "    </tr>\n",
       "  </tbody>\n",
       "</table>\n",
       "</div>"
      ],
      "text/plain": [
       "  Mn foliar     Npla   Prod  MMG\n",
       "0       NaN      NaN  kg/ha    g\n",
       "1       Sem  92188.0   3925  188\n",
       "2     1 DAA  96007.0   3666  199\n",
       "3    14 DAA  99132.0   3808  180\n",
       "4  1/14 DAA  96701.0   3796  173"
      ]
     },
     "execution_count": 5,
     "metadata": {},
     "output_type": "execute_result"
    }
   ],
   "source": [
    "matrix_dois"
   ]
  },
  {
   "cell_type": "code",
   "execution_count": 6,
   "metadata": {},
   "outputs": [
    {
     "name": "stdout",
     "output_type": "stream",
     "text": [
      "\n",
      "\n"
     ]
    },
    {
     "data": {
      "text/html": [
       "<div>\n",
       "<style scoped>\n",
       "    .dataframe tbody tr th:only-of-type {\n",
       "        vertical-align: middle;\n",
       "    }\n",
       "\n",
       "    .dataframe tbody tr th {\n",
       "        vertical-align: top;\n",
       "    }\n",
       "\n",
       "    .dataframe thead th {\n",
       "        text-align: right;\n",
       "    }\n",
       "</style>\n",
       "<table border=\"1\" class=\"dataframe\">\n",
       "  <thead>\n",
       "    <tr style=\"text-align: right;\">\n",
       "      <th></th>\n",
       "      <th>Variable</th>\n",
       "      <th>N</th>\n",
       "      <th>Mean</th>\n",
       "      <th>SD</th>\n",
       "      <th>SE</th>\n",
       "      <th>95% Conf.</th>\n",
       "      <th>Interval</th>\n",
       "    </tr>\n",
       "  </thead>\n",
       "  <tbody>\n",
       "    <tr>\n",
       "      <th>0</th>\n",
       "      <td>Npla</td>\n",
       "      <td>32.0</td>\n",
       "      <td>96007.0312</td>\n",
       "      <td>18138.9719</td>\n",
       "      <td>3206.5475</td>\n",
       "      <td>89467.2345</td>\n",
       "      <td>102546.828</td>\n",
       "    </tr>\n",
       "  </tbody>\n",
       "</table>\n",
       "</div>"
      ],
      "text/plain": [
       "  Variable     N        Mean          SD         SE   95% Conf.    Interval\n",
       "0     Npla  32.0  96007.0312  18138.9719  3206.5475  89467.2345  102546.828"
      ]
     },
     "execution_count": 6,
     "metadata": {},
     "output_type": "execute_result"
    }
   ],
   "source": [
    "# Obtendo estatística descritiva de Npla\n",
    "rp.summary_cont(matrix['Npla'])"
   ]
  },
  {
   "cell_type": "markdown",
   "metadata": {},
   "source": [
    "#### Sobre as descritivas:\n",
    "\n",
    "* Variable: A variável é 'Npla' o numero de plantas;\n",
    "* N: Quantidade de elementos. No caso, temos 32 amostras;\n",
    "* Mean: A média da variável Npla é 96007.03. \n",
    "* SD: Desvio padrão de Npla é de 18138.97;\n",
    "* SE: Erro Padrão = SD/raiz(n) de Npla é 3206.55;\n",
    "* O intervalo de confiança 95% vai de 89467.2345 a 102546.828. Isso significa que se escolhermos da população 100 amostras de forma aleatória, 95 estarão nesse intervalo."
   ]
  },
  {
   "cell_type": "code",
   "execution_count": 7,
   "metadata": {},
   "outputs": [
    {
     "name": "stdout",
     "output_type": "stream",
     "text": [
      "\n",
      "\n"
     ]
    },
    {
     "data": {
      "text/html": [
       "<div>\n",
       "<style scoped>\n",
       "    .dataframe tbody tr th:only-of-type {\n",
       "        vertical-align: middle;\n",
       "    }\n",
       "\n",
       "    .dataframe tbody tr th {\n",
       "        vertical-align: top;\n",
       "    }\n",
       "\n",
       "    .dataframe thead th {\n",
       "        text-align: right;\n",
       "    }\n",
       "</style>\n",
       "<table border=\"1\" class=\"dataframe\">\n",
       "  <thead>\n",
       "    <tr style=\"text-align: right;\">\n",
       "      <th></th>\n",
       "      <th>Variable</th>\n",
       "      <th>N</th>\n",
       "      <th>Mean</th>\n",
       "      <th>SD</th>\n",
       "      <th>SE</th>\n",
       "      <th>95% Conf.</th>\n",
       "      <th>Interval</th>\n",
       "    </tr>\n",
       "  </thead>\n",
       "  <tbody>\n",
       "    <tr>\n",
       "      <th>0</th>\n",
       "      <td>PRODUTIVIDADE</td>\n",
       "      <td>32.0</td>\n",
       "      <td>2734.0</td>\n",
       "      <td>448.3609</td>\n",
       "      <td>79.2598</td>\n",
       "      <td>2572.3487</td>\n",
       "      <td>2895.6513</td>\n",
       "    </tr>\n",
       "  </tbody>\n",
       "</table>\n",
       "</div>"
      ],
      "text/plain": [
       "        Variable     N    Mean        SD       SE  95% Conf.   Interval\n",
       "0  PRODUTIVIDADE  32.0  2734.0  448.3609  79.2598  2572.3487  2895.6513"
      ]
     },
     "execution_count": 7,
     "metadata": {},
     "output_type": "execute_result"
    }
   ],
   "source": [
    "# Obtendo estatística descritiva de PRODUTIVIDADE Gr/PARCELA\n",
    "rp.summary_cont(matrix['PRODUTIVIDADE'])"
   ]
  },
  {
   "cell_type": "markdown",
   "metadata": {},
   "source": [
    "#### Sobre as descritivas:\n",
    "\n",
    "* Variable: A variável é 'PRODUTIVIDADE', produtividade Gr/parcela;\n",
    "* N: Quantidade de elementos. No caso, temos 32 amostras;\n",
    "* Mean: A média da variável PRODUTIVIDADE é 2734.0; \n",
    "* SD: Desvio padrão de PRODUTIVIDADE é de 448.36;\n",
    "* SE: Erro Padrão = SD/raiz(n) de PRODUTIVIDADE é 79.26;\n",
    "* O intervalo de confiança 95% vai de 2572.35 a 2895.65. Isso significa que se escolhermos da população 100 amostras de forma aleatória, 95 estarão nesse intervalo."
   ]
  },
  {
   "cell_type": "code",
   "execution_count": 8,
   "metadata": {},
   "outputs": [
    {
     "name": "stdout",
     "output_type": "stream",
     "text": [
      "\n",
      "\n"
     ]
    },
    {
     "data": {
      "text/html": [
       "<div>\n",
       "<style scoped>\n",
       "    .dataframe tbody tr th:only-of-type {\n",
       "        vertical-align: middle;\n",
       "    }\n",
       "\n",
       "    .dataframe tbody tr th {\n",
       "        vertical-align: top;\n",
       "    }\n",
       "\n",
       "    .dataframe thead th {\n",
       "        text-align: right;\n",
       "    }\n",
       "</style>\n",
       "<table border=\"1\" class=\"dataframe\">\n",
       "  <thead>\n",
       "    <tr style=\"text-align: right;\">\n",
       "      <th></th>\n",
       "      <th>Variable</th>\n",
       "      <th>N</th>\n",
       "      <th>Mean</th>\n",
       "      <th>SD</th>\n",
       "      <th>SE</th>\n",
       "      <th>95% Conf.</th>\n",
       "      <th>Interval</th>\n",
       "    </tr>\n",
       "  </thead>\n",
       "  <tbody>\n",
       "    <tr>\n",
       "      <th>0</th>\n",
       "      <td>Massa_mil</td>\n",
       "      <td>32.0</td>\n",
       "      <td>184.6875</td>\n",
       "      <td>21.2488</td>\n",
       "      <td>3.7563</td>\n",
       "      <td>177.0265</td>\n",
       "      <td>192.3485</td>\n",
       "    </tr>\n",
       "  </tbody>\n",
       "</table>\n",
       "</div>"
      ],
      "text/plain": [
       "    Variable     N      Mean       SD      SE  95% Conf.  Interval\n",
       "0  Massa_mil  32.0  184.6875  21.2488  3.7563   177.0265  192.3485"
      ]
     },
     "execution_count": 8,
     "metadata": {},
     "output_type": "execute_result"
    }
   ],
   "source": [
    "# Obtém estatística descritiva de Massa mil grãos\n",
    "rp.summary_cont(matrix['Massa_mil'])"
   ]
  },
  {
   "cell_type": "markdown",
   "metadata": {},
   "source": [
    "#### Sobre as descritivas:\n",
    "\n",
    "* Variable: A variável é 'Massa_mil', massa em mil grãos;\n",
    "* N: Quantidade de elementos. No caso, temos 32 amostras;\n",
    "* Mean: A média da variável Massa_mil é 184.69; \n",
    "* SD: Desvio padrão de Massa_mil é de 21.25;\n",
    "* SE: Erro Padrão = SD/raiz(n) de Massa_mil é 3.76;\n",
    "* O intervalo de confiança 95% vai de 177.03 a 192.35. Isso significa que se escolhermos da população 100 amostras de forma aleatória, 95 estarão nesse intervalo."
   ]
  },
  {
   "cell_type": "markdown",
   "metadata": {},
   "source": [
    "### Separado os resultados por grupos"
   ]
  },
  {
   "cell_type": "code",
   "execution_count": 9,
   "metadata": {},
   "outputs": [
    {
     "name": "stdout",
     "output_type": "stream",
     "text": [
      "\n",
      "\n"
     ]
    },
    {
     "data": {
      "text/html": [
       "<div>\n",
       "<style scoped>\n",
       "    .dataframe tbody tr th:only-of-type {\n",
       "        vertical-align: middle;\n",
       "    }\n",
       "\n",
       "    .dataframe tbody tr th {\n",
       "        vertical-align: top;\n",
       "    }\n",
       "\n",
       "    .dataframe thead th {\n",
       "        text-align: right;\n",
       "    }\n",
       "</style>\n",
       "<table border=\"1\" class=\"dataframe\">\n",
       "  <thead>\n",
       "    <tr style=\"text-align: right;\">\n",
       "      <th></th>\n",
       "      <th>N</th>\n",
       "      <th>Mean</th>\n",
       "      <th>SD</th>\n",
       "      <th>SE</th>\n",
       "      <th>95% Conf.</th>\n",
       "      <th>Interval</th>\n",
       "    </tr>\n",
       "    <tr>\n",
       "      <th>TRATAMENTO</th>\n",
       "      <th></th>\n",
       "      <th></th>\n",
       "      <th></th>\n",
       "      <th></th>\n",
       "      <th></th>\n",
       "      <th></th>\n",
       "    </tr>\n",
       "  </thead>\n",
       "  <tbody>\n",
       "    <tr>\n",
       "      <th>A</th>\n",
       "      <td>8</td>\n",
       "      <td>92187.625</td>\n",
       "      <td>14489.7373</td>\n",
       "      <td>5122.8957</td>\n",
       "      <td>80073.9015</td>\n",
       "      <td>104301.3485</td>\n",
       "    </tr>\n",
       "    <tr>\n",
       "      <th>B</th>\n",
       "      <td>8</td>\n",
       "      <td>96007.000</td>\n",
       "      <td>14744.2501</td>\n",
       "      <td>5212.8796</td>\n",
       "      <td>83680.4984</td>\n",
       "      <td>108333.5016</td>\n",
       "    </tr>\n",
       "    <tr>\n",
       "      <th>C</th>\n",
       "      <td>8</td>\n",
       "      <td>96701.500</td>\n",
       "      <td>23534.4477</td>\n",
       "      <td>8320.6838</td>\n",
       "      <td>77026.2094</td>\n",
       "      <td>116376.7906</td>\n",
       "    </tr>\n",
       "    <tr>\n",
       "      <th>D</th>\n",
       "      <td>8</td>\n",
       "      <td>99132.000</td>\n",
       "      <td>21154.1867</td>\n",
       "      <td>7479.1344</td>\n",
       "      <td>81446.6574</td>\n",
       "      <td>116817.3426</td>\n",
       "    </tr>\n",
       "  </tbody>\n",
       "</table>\n",
       "</div>"
      ],
      "text/plain": [
       "            N       Mean          SD         SE   95% Conf.     Interval\n",
       "TRATAMENTO                                                              \n",
       "A           8  92187.625  14489.7373  5122.8957  80073.9015  104301.3485\n",
       "B           8  96007.000  14744.2501  5212.8796  83680.4984  108333.5016\n",
       "C           8  96701.500  23534.4477  8320.6838  77026.2094  116376.7906\n",
       "D           8  99132.000  21154.1867  7479.1344  81446.6574  116817.3426"
      ]
     },
     "execution_count": 9,
     "metadata": {},
     "output_type": "execute_result"
    }
   ],
   "source": [
    "rp.summary_cont(matrix['Npla'].groupby(matrix['TRATAMENTO']))"
   ]
  },
  {
   "cell_type": "markdown",
   "metadata": {},
   "source": [
    "Comparação dos dados por numero de plantas"
   ]
  },
  {
   "cell_type": "code",
   "execution_count": 10,
   "metadata": {},
   "outputs": [
    {
     "name": "stdout",
     "output_type": "stream",
     "text": [
      "\n",
      "\n"
     ]
    },
    {
     "data": {
      "text/html": [
       "<div>\n",
       "<style scoped>\n",
       "    .dataframe tbody tr th:only-of-type {\n",
       "        vertical-align: middle;\n",
       "    }\n",
       "\n",
       "    .dataframe tbody tr th {\n",
       "        vertical-align: top;\n",
       "    }\n",
       "\n",
       "    .dataframe thead th {\n",
       "        text-align: right;\n",
       "    }\n",
       "</style>\n",
       "<table border=\"1\" class=\"dataframe\">\n",
       "  <thead>\n",
       "    <tr style=\"text-align: right;\">\n",
       "      <th></th>\n",
       "      <th>N</th>\n",
       "      <th>Mean</th>\n",
       "      <th>SD</th>\n",
       "      <th>SE</th>\n",
       "      <th>95% Conf.</th>\n",
       "      <th>Interval</th>\n",
       "    </tr>\n",
       "    <tr>\n",
       "      <th>TRATAMENTO</th>\n",
       "      <th></th>\n",
       "      <th></th>\n",
       "      <th></th>\n",
       "      <th></th>\n",
       "      <th></th>\n",
       "      <th></th>\n",
       "    </tr>\n",
       "  </thead>\n",
       "  <tbody>\n",
       "    <tr>\n",
       "      <th>A</th>\n",
       "      <td>8</td>\n",
       "      <td>2817.50</td>\n",
       "      <td>284.3790</td>\n",
       "      <td>100.5432</td>\n",
       "      <td>2579.7532</td>\n",
       "      <td>3055.2468</td>\n",
       "    </tr>\n",
       "    <tr>\n",
       "      <th>B</th>\n",
       "      <td>8</td>\n",
       "      <td>2637.25</td>\n",
       "      <td>474.3106</td>\n",
       "      <td>167.6941</td>\n",
       "      <td>2240.7165</td>\n",
       "      <td>3033.7835</td>\n",
       "    </tr>\n",
       "    <tr>\n",
       "      <th>C</th>\n",
       "      <td>8</td>\n",
       "      <td>2732.50</td>\n",
       "      <td>631.2063</td>\n",
       "      <td>223.1651</td>\n",
       "      <td>2204.7983</td>\n",
       "      <td>3260.2017</td>\n",
       "    </tr>\n",
       "    <tr>\n",
       "      <th>D</th>\n",
       "      <td>8</td>\n",
       "      <td>2748.75</td>\n",
       "      <td>408.7590</td>\n",
       "      <td>144.5181</td>\n",
       "      <td>2407.0189</td>\n",
       "      <td>3090.4811</td>\n",
       "    </tr>\n",
       "  </tbody>\n",
       "</table>\n",
       "</div>"
      ],
      "text/plain": [
       "            N     Mean        SD        SE  95% Conf.   Interval\n",
       "TRATAMENTO                                                      \n",
       "A           8  2817.50  284.3790  100.5432  2579.7532  3055.2468\n",
       "B           8  2637.25  474.3106  167.6941  2240.7165  3033.7835\n",
       "C           8  2732.50  631.2063  223.1651  2204.7983  3260.2017\n",
       "D           8  2748.75  408.7590  144.5181  2407.0189  3090.4811"
      ]
     },
     "execution_count": 10,
     "metadata": {},
     "output_type": "execute_result"
    }
   ],
   "source": [
    "rp.summary_cont(matrix['PRODUTIVIDADE'].groupby(matrix['TRATAMENTO']))"
   ]
  },
  {
   "cell_type": "markdown",
   "metadata": {},
   "source": [
    "Comparação dos dados por produtividade gr/parcela"
   ]
  },
  {
   "cell_type": "code",
   "execution_count": 11,
   "metadata": {},
   "outputs": [
    {
     "name": "stdout",
     "output_type": "stream",
     "text": [
      "\n",
      "\n"
     ]
    },
    {
     "data": {
      "text/html": [
       "<div>\n",
       "<style scoped>\n",
       "    .dataframe tbody tr th:only-of-type {\n",
       "        vertical-align: middle;\n",
       "    }\n",
       "\n",
       "    .dataframe tbody tr th {\n",
       "        vertical-align: top;\n",
       "    }\n",
       "\n",
       "    .dataframe thead th {\n",
       "        text-align: right;\n",
       "    }\n",
       "</style>\n",
       "<table border=\"1\" class=\"dataframe\">\n",
       "  <thead>\n",
       "    <tr style=\"text-align: right;\">\n",
       "      <th></th>\n",
       "      <th>N</th>\n",
       "      <th>Mean</th>\n",
       "      <th>SD</th>\n",
       "      <th>SE</th>\n",
       "      <th>95% Conf.</th>\n",
       "      <th>Interval</th>\n",
       "    </tr>\n",
       "    <tr>\n",
       "      <th>TRATAMENTO</th>\n",
       "      <th></th>\n",
       "      <th></th>\n",
       "      <th></th>\n",
       "      <th></th>\n",
       "      <th></th>\n",
       "      <th></th>\n",
       "    </tr>\n",
       "  </thead>\n",
       "  <tbody>\n",
       "    <tr>\n",
       "      <th>A</th>\n",
       "      <td>8</td>\n",
       "      <td>187.50</td>\n",
       "      <td>8.8641</td>\n",
       "      <td>3.1339</td>\n",
       "      <td>180.0895</td>\n",
       "      <td>194.9105</td>\n",
       "    </tr>\n",
       "    <tr>\n",
       "      <th>B</th>\n",
       "      <td>8</td>\n",
       "      <td>198.75</td>\n",
       "      <td>22.9518</td>\n",
       "      <td>8.1147</td>\n",
       "      <td>179.5618</td>\n",
       "      <td>217.9382</td>\n",
       "    </tr>\n",
       "    <tr>\n",
       "      <th>C</th>\n",
       "      <td>8</td>\n",
       "      <td>172.50</td>\n",
       "      <td>23.7547</td>\n",
       "      <td>8.3986</td>\n",
       "      <td>152.6406</td>\n",
       "      <td>192.3594</td>\n",
       "    </tr>\n",
       "    <tr>\n",
       "      <th>D</th>\n",
       "      <td>8</td>\n",
       "      <td>180.00</td>\n",
       "      <td>20.0000</td>\n",
       "      <td>7.0711</td>\n",
       "      <td>163.2796</td>\n",
       "      <td>196.7204</td>\n",
       "    </tr>\n",
       "  </tbody>\n",
       "</table>\n",
       "</div>"
      ],
      "text/plain": [
       "            N    Mean       SD      SE  95% Conf.  Interval\n",
       "TRATAMENTO                                                 \n",
       "A           8  187.50   8.8641  3.1339   180.0895  194.9105\n",
       "B           8  198.75  22.9518  8.1147   179.5618  217.9382\n",
       "C           8  172.50  23.7547  8.3986   152.6406  192.3594\n",
       "D           8  180.00  20.0000  7.0711   163.2796  196.7204"
      ]
     },
     "execution_count": 11,
     "metadata": {},
     "output_type": "execute_result"
    }
   ],
   "source": [
    "rp.summary_cont(matrix['Massa_mil'].groupby(matrix['TRATAMENTO']))"
   ]
  },
  {
   "cell_type": "markdown",
   "metadata": {},
   "source": [
    "Comparação dos dados por massa mil grãos"
   ]
  },
  {
   "cell_type": "markdown",
   "metadata": {},
   "source": [
    "### Gráficos para mostrar distribuição"
   ]
  },
  {
   "cell_type": "code",
   "execution_count": 12,
   "metadata": {},
   "outputs": [
    {
     "data": {
      "image/png": "[encoded data removed]",
      "text/plain": [
       "<Figure size 432x288 with 1 Axes>"
      ]
     },
     "metadata": {
      "needs_background": "light"
     },
     "output_type": "display_data"
    }
   ],
   "source": [
    "fig1, ax1 = plt.subplots()\n",
    "\n",
    "matrix_npla = [matrix[matrix['TRATAMENTO']=='A']['Npla'], \n",
    "               matrix[matrix['TRATAMENTO']=='B']['Npla'], \n",
    "               matrix[matrix['TRATAMENTO']=='C']['Npla'], \n",
    "               matrix[matrix['TRATAMENTO']=='D']['Npla']]\n",
    "\n",
    "ax1.set_title('Boxplot Numero de plantas')\n",
    "\n",
    "ax1.boxplot(matrix_npla )\n",
    "\n",
    "plt.show()"
   ]
  },
  {
   "cell_type": "markdown",
   "metadata": {},
   "source": [
    "Sobre o Boxplot:\n",
    "\n",
    "- O gráfico serve para mostrar a distribuição do número de plantas;\n",
    "- O traço no meio da caixa representa a mediana;\n",
    "- Dentro da caixa, temos 50% da amostra. O limite inferior é o p25 e o superior o p75. Ou seja, para 3 (TRATAMENTO C), temos que 25% da amostra apresentou até no máximo 80000 plantas. 50% da amostra até 900000. E por aí vai. O máximo foi 130000 e o mínimo 70000. Dentro da caixa estaria o \"grosso\" da amostra.\n"
   ]
  },
  {
   "cell_type": "code",
   "execution_count": 13,
   "metadata": {},
   "outputs": [
    {
     "data": {
      "image/png": "[encoded data removed]",
      "text/plain": [
       "<Figure size 432x288 with 1 Axes>"
      ]
     },
     "metadata": {
      "needs_background": "light"
     },
     "output_type": "display_data"
    }
   ],
   "source": [
    "fig2, ax1 = plt.subplots()\n",
    "\n",
    "matrix_prod = [matrix[matrix['TRATAMENTO']=='A']['PRODUTIVIDADE'], \n",
    "               matrix[matrix['TRATAMENTO']=='B']['PRODUTIVIDADE'], \n",
    "               matrix[matrix['TRATAMENTO']=='C']['PRODUTIVIDADE'], \n",
    "               matrix[matrix['TRATAMENTO']=='D']['PRODUTIVIDADE']]\n",
    "\n",
    "ax1.set_title('Boxplot PRODUTIVIDADE Gr/PARCELA')\n",
    "\n",
    "ax1.boxplot(matrix_prod )\n",
    "\n",
    "plt.show()"
   ]
  },
  {
   "cell_type": "markdown",
   "metadata": {},
   "source": [
    "Sobre o Boxplot:\n",
    "\n",
    "- O gráfico serve para mostrar a distribuição da produtividade Gr/parcela;\n",
    "- O traço no meio da caixa representa a mediana;\n",
    "- Dentro da caixa, temos 50% da amostra. O limite inferior é o p25 e o superior o p75. Ou seja, para 1 (TRATAMENTO A), temos que 25% da amostra apresentou até no máximo um pouco mais de 2500 gr/parcela. 50% da amostra entre 2500 e 2750. E por aí vai. O máximo foi proximo de 3250 e o mínimo 2500. Dentro da caixa estaria o \"grosso\" da amostra."
   ]
  },
  {
   "cell_type": "code",
   "execution_count": 14,
   "metadata": {},
   "outputs": [
    {
     "data": {
      "image/png": "[encoded data removed]",
      "text/plain": [
       "<Figure size 432x288 with 1 Axes>"
      ]
     },
     "metadata": {
      "needs_background": "light"
     },
     "output_type": "display_data"
    }
   ],
   "source": [
    "fig3, ax1 = plt.subplots()\n",
    "\n",
    "matrix_mil = [matrix[matrix['TRATAMENTO']=='A']['Massa_mil'], \n",
    "              matrix[matrix['TRATAMENTO']=='B']['Massa_mil'], \n",
    "              matrix[matrix['TRATAMENTO']=='C']['Massa_mil'], \n",
    "              \n",
    "              matrix[matrix['TRATAMENTO']=='D']['Massa_mil']]\n",
    "\n",
    "ax1.set_title('Boxplot Massa mil grãos')\n",
    "\n",
    "ax1.boxplot(matrix_mil)\n",
    "\n",
    "plt.show()"
   ]
  },
  {
   "cell_type": "markdown",
   "metadata": {},
   "source": [
    "Sobre o Boxplot:\n",
    "\n",
    "- O gráfico serve para mostrar a distribuição da massa em mil grãos;\n",
    "- O traço no meio da caixa representa a mediana;\n",
    "- Dentro da caixa, temos 50% da amostra. O limite inferior é o p25 e o superior o p75. Ou seja, para 2 (TRATAMENTO B), temos que 25% da amostra apresentou até no máximo algo próximo de 200g. 50% da amostra entre 200 e 210. E por aí vai. O máximo foi proximo de 220 e o mínimo 150. Dentro da caixa estaria o \"grosso\" da amostra."
   ]
  },
  {
   "cell_type": "markdown",
   "metadata": {},
   "source": [
    "# RODANDO ANOVA"
   ]
  },
  {
   "cell_type": "markdown",
   "metadata": {},
   "source": [
    "Para considerarmos algum tratamento estatisticamente relevante, o ideal é um p-value < 0,05."
   ]
  },
  {
   "cell_type": "code",
   "execution_count": 15,
   "metadata": {},
   "outputs": [
    {
     "data": {
      "text/plain": [
       "F_onewayResult(statistic=0.1854203362695743, pvalue=0.9054160830169149)"
      ]
     },
     "execution_count": 15,
     "metadata": {},
     "output_type": "execute_result"
    }
   ],
   "source": [
    "stats.f_oneway(matrix['Npla'][matrix['TRATAMENTO']=='A'], \n",
    "               matrix['Npla'][matrix['TRATAMENTO']=='B'], \n",
    "               matrix['Npla'][matrix['TRATAMENTO']=='C'], \n",
    "               matrix['Npla'][matrix['TRATAMENTO']=='D']) "
   ]
  },
  {
   "cell_type": "markdown",
   "metadata": {},
   "source": [
    "Para o número de plantas, observamos um p-value= 0.905, então, a princípio, a diferença não pode ser considerada estatisticamente relevante."
   ]
  },
  {
   "cell_type": "code",
   "execution_count": 16,
   "metadata": {},
   "outputs": [
    {
     "data": {
      "text/plain": [
       "F_onewayResult(statistic=0.20263026720579894, pvalue=0.8936915909121956)"
      ]
     },
     "execution_count": 16,
     "metadata": {},
     "output_type": "execute_result"
    }
   ],
   "source": [
    "stats.f_oneway(matrix['PRODUTIVIDADE'][matrix['TRATAMENTO']=='A'], \n",
    "               matrix['PRODUTIVIDADE'][matrix['TRATAMENTO']=='B'], \n",
    "               matrix['PRODUTIVIDADE'][matrix['TRATAMENTO']=='C'], \n",
    "               matrix['PRODUTIVIDADE'][matrix['TRATAMENTO']=='D']) "
   ]
  },
  {
   "cell_type": "markdown",
   "metadata": {},
   "source": [
    "Para a produtividade, observamos um p-value= 0.894, então, a princípio, a diferença não pode ser medida estatisticamente"
   ]
  },
  {
   "cell_type": "code",
   "execution_count": 17,
   "metadata": {},
   "outputs": [
    {
     "data": {
      "text/plain": [
       "F_onewayResult(statistic=2.5563139931740615, pvalue=0.07532239567149511)"
      ]
     },
     "execution_count": 17,
     "metadata": {},
     "output_type": "execute_result"
    }
   ],
   "source": [
    "stats.f_oneway(matrix['Massa_mil'][matrix['TRATAMENTO']=='A'], \n",
    "               matrix['Massa_mil'][matrix['TRATAMENTO']=='B'], \n",
    "               matrix['Massa_mil'][matrix['TRATAMENTO']=='C'], \n",
    "               matrix['Massa_mil'][matrix['TRATAMENTO']=='D']) "
   ]
  },
  {
   "cell_type": "markdown",
   "metadata": {},
   "source": [
    "Para o número de plantas, observamos um p-value= 0.07, e apesar de ser menor do que nos outros dois casos, continua sendo maior que 0,05, então, a princípio, a diferença não pode ser medida estatisticamente"
   ]
  },
  {
   "cell_type": "markdown",
   "metadata": {},
   "source": [
    "F= 2.556\n",
    "p-value= 0.075"
   ]
  },
  {
   "cell_type": "code",
   "execution_count": 18,
   "metadata": {},
   "outputs": [
    {
     "data": {
      "text/html": [
       "<table class=\"simpletable\">\n",
       "<caption>OLS Regression Results</caption>\n",
       "<tr>\n",
       "  <th>Dep. Variable:</th>          <td>Npla</td>       <th>  R-squared:         </th> <td>   0.019</td>\n",
       "</tr>\n",
       "<tr>\n",
       "  <th>Model:</th>                   <td>OLS</td>       <th>  Adj. R-squared:    </th> <td>  -0.086</td>\n",
       "</tr>\n",
       "<tr>\n",
       "  <th>Method:</th>             <td>Least Squares</td>  <th>  F-statistic:       </th> <td>  0.1854</td>\n",
       "</tr>\n",
       "<tr>\n",
       "  <th>Date:</th>             <td>Thu, 27 May 2021</td> <th>  Prob (F-statistic):</th>  <td> 0.905</td> \n",
       "</tr>\n",
       "<tr>\n",
       "  <th>Time:</th>                 <td>14:44:57</td>     <th>  Log-Likelihood:    </th> <td> -358.37</td>\n",
       "</tr>\n",
       "<tr>\n",
       "  <th>No. Observations:</th>      <td>    32</td>      <th>  AIC:               </th> <td>   724.7</td>\n",
       "</tr>\n",
       "<tr>\n",
       "  <th>Df Residuals:</th>          <td>    28</td>      <th>  BIC:               </th> <td>   730.6</td>\n",
       "</tr>\n",
       "<tr>\n",
       "  <th>Df Model:</th>              <td>     3</td>      <th>                     </th>     <td> </td>   \n",
       "</tr>\n",
       "<tr>\n",
       "  <th>Covariance Type:</th>      <td>nonrobust</td>    <th>                     </th>     <td> </td>   \n",
       "</tr>\n",
       "</table>\n",
       "<table class=\"simpletable\">\n",
       "<tr>\n",
       "           <td></td>             <th>coef</th>     <th>std err</th>      <th>t</th>      <th>P>|t|</th>  <th>[0.025</th>    <th>0.975]</th>  \n",
       "</tr>\n",
       "<tr>\n",
       "  <th>Intercept</th>          <td> 9.219e+04</td> <td> 6681.867</td> <td>   13.797</td> <td> 0.000</td> <td> 7.85e+04</td> <td> 1.06e+05</td>\n",
       "</tr>\n",
       "<tr>\n",
       "  <th>C(TRATAMENTO)[T.B]</th> <td> 3819.3750</td> <td> 9449.587</td> <td>    0.404</td> <td> 0.689</td> <td>-1.55e+04</td> <td> 2.32e+04</td>\n",
       "</tr>\n",
       "<tr>\n",
       "  <th>C(TRATAMENTO)[T.C]</th> <td> 4513.8750</td> <td> 9449.587</td> <td>    0.478</td> <td> 0.637</td> <td>-1.48e+04</td> <td> 2.39e+04</td>\n",
       "</tr>\n",
       "<tr>\n",
       "  <th>C(TRATAMENTO)[T.D]</th> <td> 6944.3750</td> <td> 9449.587</td> <td>    0.735</td> <td> 0.469</td> <td>-1.24e+04</td> <td> 2.63e+04</td>\n",
       "</tr>\n",
       "</table>\n",
       "<table class=\"simpletable\">\n",
       "<tr>\n",
       "  <th>Omnibus:</th>       <td> 1.851</td> <th>  Durbin-Watson:     </th> <td>   1.176</td>\n",
       "</tr>\n",
       "<tr>\n",
       "  <th>Prob(Omnibus):</th> <td> 0.396</td> <th>  Jarque-Bera (JB):  </th> <td>   1.110</td>\n",
       "</tr>\n",
       "<tr>\n",
       "  <th>Skew:</th>          <td> 0.023</td> <th>  Prob(JB):          </th> <td>   0.574</td>\n",
       "</tr>\n",
       "<tr>\n",
       "  <th>Kurtosis:</th>      <td> 2.089</td> <th>  Cond. No.          </th> <td>    4.79</td>\n",
       "</tr>\n",
       "</table><br/><br/>Notes:<br/>[1] Standard Errors assume that the covariance matrix of the errors is correctly specified."
      ],
      "text/plain": [
       "<class 'statsmodels.iolib.summary.Summary'>\n",
       "\"\"\"\n",
       "                            OLS Regression Results                            \n",
       "==============================================================================\n",
       "Dep. Variable:                   Npla   R-squared:                       0.019\n",
       "Model:                            OLS   Adj. R-squared:                 -0.086\n",
       "Method:                 Least Squares   F-statistic:                    0.1854\n",
       "Date:                Thu, 27 May 2021   Prob (F-statistic):              0.905\n",
       "Time:                        14:44:57   Log-Likelihood:                -358.37\n",
       "No. Observations:                  32   AIC:                             724.7\n",
       "Df Residuals:                      28   BIC:                             730.6\n",
       "Df Model:                           3                                         \n",
       "Covariance Type:            nonrobust                                         \n",
       "======================================================================================\n",
       "                         coef    std err          t      P>|t|      [0.025      0.975]\n",
       "--------------------------------------------------------------------------------------\n",
       "Intercept           9.219e+04   6681.867     13.797      0.000    7.85e+04    1.06e+05\n",
       "C(TRATAMENTO)[T.B]  3819.3750   9449.587      0.404      0.689   -1.55e+04    2.32e+04\n",
       "C(TRATAMENTO)[T.C]  4513.8750   9449.587      0.478      0.637   -1.48e+04    2.39e+04\n",
       "C(TRATAMENTO)[T.D]  6944.3750   9449.587      0.735      0.469   -1.24e+04    2.63e+04\n",
       "==============================================================================\n",
       "Omnibus:                        1.851   Durbin-Watson:                   1.176\n",
       "Prob(Omnibus):                  0.396   Jarque-Bera (JB):                1.110\n",
       "Skew:                           0.023   Prob(JB):                        0.574\n",
       "Kurtosis:                       2.089   Cond. No.                         4.79\n",
       "==============================================================================\n",
       "\n",
       "Notes:\n",
       "[1] Standard Errors assume that the covariance matrix of the errors is correctly specified.\n",
       "\"\"\""
      ]
     },
     "execution_count": 18,
     "metadata": {},
     "output_type": "execute_result"
    }
   ],
   "source": [
    "results_npla = ols('Npla ~ C(TRATAMENTO)', data=matrix).fit()\n",
    "results_npla.summary()"
   ]
  },
  {
   "cell_type": "markdown",
   "metadata": {},
   "source": [
    "F= 0.18, p = 0.905\n",
    "\n",
    "Os coeficientes são a diferença entre o grupo controle e o respectivo grupo listado. O intercepto é a média para TRATAMENTO A. Olhando pelos p-values (na tabela P>|t|), podemos observar que a diferença entre o TRATAMENTO A e os outros não foi significativa. (Bp-value = 0.689, Cp-value = 0.637, Dp-value = 0.469)\n",
    "\n",
    "Olhando para a tabela, especificamente para o P-Valor e o F-Estatística, nós conseguimos saber se nós explicamos uma quantidade significativa da variação.\n",
    "\n",
    "Ok, mas e quanto a comparação dos grupos entre si? Para isso, precisamos fazer algumas análises adicionais. Nós precisamos da tabela ANOVA.\n",
    "\n",
    "R-squared: é chamado de eta-quadrado na ANOVA. O modelo responde por 1,9% da variação do número de plantas.\n",
    "\n",
    "F-statistic: serve para avaliar se os valores esperados de uma variável entre diferentes grupos se difere. Em outras palavras, em um ensaio clínico, por exemplo, a F-statistic serve para avaliar se algum dos tratamentos é superior ou inferior aos outros, contra a hipótese de que todos produzem a mesma resposta média. Nesse exemplo, um único teste é feito para detectar possíveis diferenças. Alternativamente, poderíamos executar testes em pares para avaliar diferenças entre tratamentos. "
   ]
  },
  {
   "cell_type": "code",
   "execution_count": 19,
   "metadata": {},
   "outputs": [
    {
     "data": {
      "text/html": [
       "<table class=\"simpletable\">\n",
       "<caption>OLS Regression Results</caption>\n",
       "<tr>\n",
       "  <th>Dep. Variable:</th>      <td>PRODUTIVIDADE</td>  <th>  R-squared:         </th> <td>   0.021</td>\n",
       "</tr>\n",
       "<tr>\n",
       "  <th>Model:</th>                   <td>OLS</td>       <th>  Adj. R-squared:    </th> <td>  -0.084</td>\n",
       "</tr>\n",
       "<tr>\n",
       "  <th>Method:</th>             <td>Least Squares</td>  <th>  F-statistic:       </th> <td>  0.2026</td>\n",
       "</tr>\n",
       "<tr>\n",
       "  <th>Date:</th>             <td>Thu, 27 May 2021</td> <th>  Prob (F-statistic):</th>  <td> 0.894</td> \n",
       "</tr>\n",
       "<tr>\n",
       "  <th>Time:</th>                 <td>14:44:57</td>     <th>  Log-Likelihood:    </th> <td> -239.93</td>\n",
       "</tr>\n",
       "<tr>\n",
       "  <th>No. Observations:</th>      <td>    32</td>      <th>  AIC:               </th> <td>   487.9</td>\n",
       "</tr>\n",
       "<tr>\n",
       "  <th>Df Residuals:</th>          <td>    28</td>      <th>  BIC:               </th> <td>   493.7</td>\n",
       "</tr>\n",
       "<tr>\n",
       "  <th>Df Model:</th>              <td>     3</td>      <th>                     </th>     <td> </td>   \n",
       "</tr>\n",
       "<tr>\n",
       "  <th>Covariance Type:</th>      <td>nonrobust</td>    <th>                     </th>     <td> </td>   \n",
       "</tr>\n",
       "</table>\n",
       "<table class=\"simpletable\">\n",
       "<tr>\n",
       "           <td></td>             <th>coef</th>     <th>std err</th>      <th>t</th>      <th>P>|t|</th>  <th>[0.025</th>    <th>0.975]</th>  \n",
       "</tr>\n",
       "<tr>\n",
       "  <th>Intercept</th>          <td> 2817.5000</td> <td>  165.014</td> <td>   17.074</td> <td> 0.000</td> <td> 2479.484</td> <td> 3155.516</td>\n",
       "</tr>\n",
       "<tr>\n",
       "  <th>C(TRATAMENTO)[T.B]</th> <td> -180.2500</td> <td>  233.365</td> <td>   -0.772</td> <td> 0.446</td> <td> -658.276</td> <td>  297.776</td>\n",
       "</tr>\n",
       "<tr>\n",
       "  <th>C(TRATAMENTO)[T.C]</th> <td>  -85.0000</td> <td>  233.365</td> <td>   -0.364</td> <td> 0.718</td> <td> -563.026</td> <td>  393.026</td>\n",
       "</tr>\n",
       "<tr>\n",
       "  <th>C(TRATAMENTO)[T.D]</th> <td>  -68.7500</td> <td>  233.365</td> <td>   -0.295</td> <td> 0.770</td> <td> -546.776</td> <td>  409.276</td>\n",
       "</tr>\n",
       "</table>\n",
       "<table class=\"simpletable\">\n",
       "<tr>\n",
       "  <th>Omnibus:</th>       <td> 1.122</td> <th>  Durbin-Watson:     </th> <td>   1.356</td>\n",
       "</tr>\n",
       "<tr>\n",
       "  <th>Prob(Omnibus):</th> <td> 0.571</td> <th>  Jarque-Bera (JB):  </th> <td>   0.320</td>\n",
       "</tr>\n",
       "<tr>\n",
       "  <th>Skew:</th>          <td> 0.153</td> <th>  Prob(JB):          </th> <td>   0.852</td>\n",
       "</tr>\n",
       "<tr>\n",
       "  <th>Kurtosis:</th>      <td> 3.384</td> <th>  Cond. No.          </th> <td>    4.79</td>\n",
       "</tr>\n",
       "</table><br/><br/>Notes:<br/>[1] Standard Errors assume that the covariance matrix of the errors is correctly specified."
      ],
      "text/plain": [
       "<class 'statsmodels.iolib.summary.Summary'>\n",
       "\"\"\"\n",
       "                            OLS Regression Results                            \n",
       "==============================================================================\n",
       "Dep. Variable:          PRODUTIVIDADE   R-squared:                       0.021\n",
       "Model:                            OLS   Adj. R-squared:                 -0.084\n",
       "Method:                 Least Squares   F-statistic:                    0.2026\n",
       "Date:                Thu, 27 May 2021   Prob (F-statistic):              0.894\n",
       "Time:                        14:44:57   Log-Likelihood:                -239.93\n",
       "No. Observations:                  32   AIC:                             487.9\n",
       "Df Residuals:                      28   BIC:                             493.7\n",
       "Df Model:                           3                                         \n",
       "Covariance Type:            nonrobust                                         \n",
       "======================================================================================\n",
       "                         coef    std err          t      P>|t|      [0.025      0.975]\n",
       "--------------------------------------------------------------------------------------\n",
       "Intercept           2817.5000    165.014     17.074      0.000    2479.484    3155.516\n",
       "C(TRATAMENTO)[T.B]  -180.2500    233.365     -0.772      0.446    -658.276     297.776\n",
       "C(TRATAMENTO)[T.C]   -85.0000    233.365     -0.364      0.718    -563.026     393.026\n",
       "C(TRATAMENTO)[T.D]   -68.7500    233.365     -0.295      0.770    -546.776     409.276\n",
       "==============================================================================\n",
       "Omnibus:                        1.122   Durbin-Watson:                   1.356\n",
       "Prob(Omnibus):                  0.571   Jarque-Bera (JB):                0.320\n",
       "Skew:                           0.153   Prob(JB):                        0.852\n",
       "Kurtosis:                       3.384   Cond. No.                         4.79\n",
       "==============================================================================\n",
       "\n",
       "Notes:\n",
       "[1] Standard Errors assume that the covariance matrix of the errors is correctly specified.\n",
       "\"\"\""
      ]
     },
     "execution_count": 19,
     "metadata": {},
     "output_type": "execute_result"
    }
   ],
   "source": [
    "results_prod = ols('PRODUTIVIDADE ~ C(TRATAMENTO)', data=matrix).fit()\n",
    "results_prod.summary()"
   ]
  },
  {
   "cell_type": "markdown",
   "metadata": {},
   "source": [
    "F= 0.20, p = 0.89\n",
    "\n",
    "Os coeficientes são a diferença entre o grupo controle e o respectivo grupo listado. O intercepto é a média para TRATAMENTO A. Olhando pelos p-values (na tabela P>|t|), podemos observar que a diferença entre o TRATAMENTO A e os outros não foi significativa. (Bp-value = 0.446, Cp-value = 0.718, Dp-value = 0.770)\n",
    "\n",
    "R-squared: é chamado de eta-quadrado na ANOVA. O modelo responde por 2,1% da variação da produção gr/parcela."
   ]
  },
  {
   "cell_type": "code",
   "execution_count": 20,
   "metadata": {},
   "outputs": [
    {
     "data": {
      "text/html": [
       "<table class=\"simpletable\">\n",
       "<caption>OLS Regression Results</caption>\n",
       "<tr>\n",
       "  <th>Dep. Variable:</th>        <td>Massa_mil</td>    <th>  R-squared:         </th> <td>   0.215</td>\n",
       "</tr>\n",
       "<tr>\n",
       "  <th>Model:</th>                   <td>OLS</td>       <th>  Adj. R-squared:    </th> <td>   0.131</td>\n",
       "</tr>\n",
       "<tr>\n",
       "  <th>Method:</th>             <td>Least Squares</td>  <th>  F-statistic:       </th> <td>   2.556</td>\n",
       "</tr>\n",
       "<tr>\n",
       "  <th>Date:</th>             <td>Thu, 27 May 2021</td> <th>  Prob (F-statistic):</th>  <td>0.0753</td> \n",
       "</tr>\n",
       "<tr>\n",
       "  <th>Time:</th>                 <td>14:44:57</td>     <th>  Log-Likelihood:    </th> <td> -138.83</td>\n",
       "</tr>\n",
       "<tr>\n",
       "  <th>No. Observations:</th>      <td>    32</td>      <th>  AIC:               </th> <td>   285.7</td>\n",
       "</tr>\n",
       "<tr>\n",
       "  <th>Df Residuals:</th>          <td>    28</td>      <th>  BIC:               </th> <td>   291.5</td>\n",
       "</tr>\n",
       "<tr>\n",
       "  <th>Df Model:</th>              <td>     3</td>      <th>                     </th>     <td> </td>   \n",
       "</tr>\n",
       "<tr>\n",
       "  <th>Covariance Type:</th>      <td>nonrobust</td>    <th>                     </th>     <td> </td>   \n",
       "</tr>\n",
       "</table>\n",
       "<table class=\"simpletable\">\n",
       "<tr>\n",
       "           <td></td>             <th>coef</th>     <th>std err</th>      <th>t</th>      <th>P>|t|</th>  <th>[0.025</th>    <th>0.975]</th>  \n",
       "</tr>\n",
       "<tr>\n",
       "  <th>Intercept</th>          <td>  187.5000</td> <td>    7.004</td> <td>   26.772</td> <td> 0.000</td> <td>  173.154</td> <td>  201.846</td>\n",
       "</tr>\n",
       "<tr>\n",
       "  <th>C(TRATAMENTO)[T.B]</th> <td>   11.2500</td> <td>    9.905</td> <td>    1.136</td> <td> 0.266</td> <td>   -9.039</td> <td>   31.539</td>\n",
       "</tr>\n",
       "<tr>\n",
       "  <th>C(TRATAMENTO)[T.C]</th> <td>  -15.0000</td> <td>    9.905</td> <td>   -1.514</td> <td> 0.141</td> <td>  -35.289</td> <td>    5.289</td>\n",
       "</tr>\n",
       "<tr>\n",
       "  <th>C(TRATAMENTO)[T.D]</th> <td>   -7.5000</td> <td>    9.905</td> <td>   -0.757</td> <td> 0.455</td> <td>  -27.789</td> <td>   12.789</td>\n",
       "</tr>\n",
       "</table>\n",
       "<table class=\"simpletable\">\n",
       "<tr>\n",
       "  <th>Omnibus:</th>       <td> 5.059</td> <th>  Durbin-Watson:     </th> <td>   1.989</td>\n",
       "</tr>\n",
       "<tr>\n",
       "  <th>Prob(Omnibus):</th> <td> 0.080</td> <th>  Jarque-Bera (JB):  </th> <td>   3.502</td>\n",
       "</tr>\n",
       "<tr>\n",
       "  <th>Skew:</th>          <td>-0.740</td> <th>  Prob(JB):          </th> <td>   0.174</td>\n",
       "</tr>\n",
       "<tr>\n",
       "  <th>Kurtosis:</th>      <td> 3.661</td> <th>  Cond. No.          </th> <td>    4.79</td>\n",
       "</tr>\n",
       "</table><br/><br/>Notes:<br/>[1] Standard Errors assume that the covariance matrix of the errors is correctly specified."
      ],
      "text/plain": [
       "<class 'statsmodels.iolib.summary.Summary'>\n",
       "\"\"\"\n",
       "                            OLS Regression Results                            \n",
       "==============================================================================\n",
       "Dep. Variable:              Massa_mil   R-squared:                       0.215\n",
       "Model:                            OLS   Adj. R-squared:                  0.131\n",
       "Method:                 Least Squares   F-statistic:                     2.556\n",
       "Date:                Thu, 27 May 2021   Prob (F-statistic):             0.0753\n",
       "Time:                        14:44:57   Log-Likelihood:                -138.83\n",
       "No. Observations:                  32   AIC:                             285.7\n",
       "Df Residuals:                      28   BIC:                             291.5\n",
       "Df Model:                           3                                         \n",
       "Covariance Type:            nonrobust                                         \n",
       "======================================================================================\n",
       "                         coef    std err          t      P>|t|      [0.025      0.975]\n",
       "--------------------------------------------------------------------------------------\n",
       "Intercept            187.5000      7.004     26.772      0.000     173.154     201.846\n",
       "C(TRATAMENTO)[T.B]    11.2500      9.905      1.136      0.266      -9.039      31.539\n",
       "C(TRATAMENTO)[T.C]   -15.0000      9.905     -1.514      0.141     -35.289       5.289\n",
       "C(TRATAMENTO)[T.D]    -7.5000      9.905     -0.757      0.455     -27.789      12.789\n",
       "==============================================================================\n",
       "Omnibus:                        5.059   Durbin-Watson:                   1.989\n",
       "Prob(Omnibus):                  0.080   Jarque-Bera (JB):                3.502\n",
       "Skew:                          -0.740   Prob(JB):                        0.174\n",
       "Kurtosis:                       3.661   Cond. No.                         4.79\n",
       "==============================================================================\n",
       "\n",
       "Notes:\n",
       "[1] Standard Errors assume that the covariance matrix of the errors is correctly specified.\n",
       "\"\"\""
      ]
     },
     "execution_count": 20,
     "metadata": {},
     "output_type": "execute_result"
    }
   ],
   "source": [
    "results_massa = ols('Massa_mil ~ C(TRATAMENTO)', data=matrix).fit()\n",
    "results_massa.summary()"
   ]
  },
  {
   "cell_type": "markdown",
   "metadata": {},
   "source": [
    "F= 2.56, p = 0,07\n",
    "\n",
    "Os coeficientes são a diferença entre o grupo controle e o respectivo grupo listado. O intercepto é a média para TRATAMENTO A. Olhando pelos p-values (na tabela P>|t|), podemos observar que a diferença entre o TRATAMENTO A e os outros não foi significativa. (Bp-value = 0.266, Cp-value = 0.141, Dp-value = 0.455)\n",
    "\n",
    "R-squared: é chamado de eta-quadrado na ANOVA. O modelo responde por 21,5% da variação da massa em mil grãos."
   ]
  },
  {
   "cell_type": "markdown",
   "metadata": {},
   "source": [
    "## Obtendo a tabela ANOVA"
   ]
  },
  {
   "cell_type": "code",
   "execution_count": 21,
   "metadata": {},
   "outputs": [],
   "source": [
    "def anova_table(aov):\n",
    "    aov['mean_sq'] = aov[:]['sum_sq']/aov[:]['df']\n",
    "    aov['eta_sq'] = aov[:-1]['sum_sq']/sum(aov['sum_sq'])\n",
    "    aov['omega_sq'] = (aov[:-1]['sum_sq']-(aov[:-1]['df']*aov['mean_sq'][-1]))/(sum(aov['sum_sq'])+aov['mean_sq'][-1])\n",
    "    cols = ['sum_sq', 'df', 'mean_sq', 'F', 'PR(>F)', 'eta_sq', 'omega_sq']\n",
    "    aov = aov[cols]\n",
    "    return aov\n"
   ]
  },
  {
   "cell_type": "code",
   "execution_count": 22,
   "metadata": {},
   "outputs": [
    {
     "data": {
      "text/html": [
       "<div>\n",
       "<style scoped>\n",
       "    .dataframe tbody tr th:only-of-type {\n",
       "        vertical-align: middle;\n",
       "    }\n",
       "\n",
       "    .dataframe tbody tr th {\n",
       "        vertical-align: top;\n",
       "    }\n",
       "\n",
       "    .dataframe thead th {\n",
       "        text-align: right;\n",
       "    }\n",
       "</style>\n",
       "<table border=\"1\" class=\"dataframe\">\n",
       "  <thead>\n",
       "    <tr style=\"text-align: right;\">\n",
       "      <th></th>\n",
       "      <th>sum_sq</th>\n",
       "      <th>df</th>\n",
       "      <th>F</th>\n",
       "      <th>PR(&gt;F)</th>\n",
       "    </tr>\n",
       "  </thead>\n",
       "  <tbody>\n",
       "    <tr>\n",
       "      <th>C(TRATAMENTO)</th>\n",
       "      <td>1.986846e+08</td>\n",
       "      <td>3.0</td>\n",
       "      <td>0.18542</td>\n",
       "      <td>0.905416</td>\n",
       "    </tr>\n",
       "    <tr>\n",
       "      <th>Residual</th>\n",
       "      <td>1.000101e+10</td>\n",
       "      <td>28.0</td>\n",
       "      <td>NaN</td>\n",
       "      <td>NaN</td>\n",
       "    </tr>\n",
       "  </tbody>\n",
       "</table>\n",
       "</div>"
      ],
      "text/plain": [
       "                     sum_sq    df        F    PR(>F)\n",
       "C(TRATAMENTO)  1.986846e+08   3.0  0.18542  0.905416\n",
       "Residual       1.000101e+10  28.0      NaN       NaN"
      ]
     },
     "execution_count": 22,
     "metadata": {},
     "output_type": "execute_result"
    }
   ],
   "source": [
    "aov_table_npla = sm.stats.anova_lm(results_npla, typ=2)\n",
    "aov_table_npla"
   ]
  },
  {
   "cell_type": "code",
   "execution_count": 23,
   "metadata": {},
   "outputs": [
    {
     "data": {
      "text/html": [
       "<div>\n",
       "<style scoped>\n",
       "    .dataframe tbody tr th:only-of-type {\n",
       "        vertical-align: middle;\n",
       "    }\n",
       "\n",
       "    .dataframe tbody tr th {\n",
       "        vertical-align: top;\n",
       "    }\n",
       "\n",
       "    .dataframe thead th {\n",
       "        text-align: right;\n",
       "    }\n",
       "</style>\n",
       "<table border=\"1\" class=\"dataframe\">\n",
       "  <thead>\n",
       "    <tr style=\"text-align: right;\">\n",
       "      <th></th>\n",
       "      <th>sum_sq</th>\n",
       "      <th>df</th>\n",
       "      <th>mean_sq</th>\n",
       "      <th>F</th>\n",
       "      <th>PR(&gt;F)</th>\n",
       "      <th>eta_sq</th>\n",
       "      <th>omega_sq</th>\n",
       "    </tr>\n",
       "  </thead>\n",
       "  <tbody>\n",
       "    <tr>\n",
       "      <th>C(TRATAMENTO)</th>\n",
       "      <td>1.986846e+08</td>\n",
       "      <td>3.0</td>\n",
       "      <td>6.622822e+07</td>\n",
       "      <td>0.18542</td>\n",
       "      <td>0.905416</td>\n",
       "      <td>0.019479</td>\n",
       "      <td>-0.082681</td>\n",
       "    </tr>\n",
       "    <tr>\n",
       "      <th>Residual</th>\n",
       "      <td>1.000101e+10</td>\n",
       "      <td>28.0</td>\n",
       "      <td>3.571788e+08</td>\n",
       "      <td>NaN</td>\n",
       "      <td>NaN</td>\n",
       "      <td>NaN</td>\n",
       "      <td>NaN</td>\n",
       "    </tr>\n",
       "  </tbody>\n",
       "</table>\n",
       "</div>"
      ],
      "text/plain": [
       "                     sum_sq    df       mean_sq        F    PR(>F)    eta_sq  \\\n",
       "C(TRATAMENTO)  1.986846e+08   3.0  6.622822e+07  0.18542  0.905416  0.019479   \n",
       "Residual       1.000101e+10  28.0  3.571788e+08      NaN       NaN       NaN   \n",
       "\n",
       "               omega_sq  \n",
       "C(TRATAMENTO) -0.082681  \n",
       "Residual            NaN  "
      ]
     },
     "execution_count": 23,
     "metadata": {},
     "output_type": "execute_result"
    }
   ],
   "source": [
    "anova_table(aov_table_npla)"
   ]
  },
  {
   "cell_type": "markdown",
   "metadata": {},
   "source": [
    "\n",
    "\n",
    "\n",
    "- Sum_sq: explained variance\n",
    "- df: degrees of freedom.\n",
    "- mean_sq: To calculate the mean squares, one divides the sum of squares (SSM and SSR) by the degrees of freedom respectively.\n",
    "\n",
    "\n",
    "- O modelo explica 1,9% da variação em numero de plantas."
   ]
  },
  {
   "cell_type": "code",
   "execution_count": 24,
   "metadata": {},
   "outputs": [
    {
     "data": {
      "text/html": [
       "<div>\n",
       "<style scoped>\n",
       "    .dataframe tbody tr th:only-of-type {\n",
       "        vertical-align: middle;\n",
       "    }\n",
       "\n",
       "    .dataframe tbody tr th {\n",
       "        vertical-align: top;\n",
       "    }\n",
       "\n",
       "    .dataframe thead th {\n",
       "        text-align: right;\n",
       "    }\n",
       "</style>\n",
       "<table border=\"1\" class=\"dataframe\">\n",
       "  <thead>\n",
       "    <tr style=\"text-align: right;\">\n",
       "      <th></th>\n",
       "      <th>sum_sq</th>\n",
       "      <th>df</th>\n",
       "      <th>F</th>\n",
       "      <th>PR(&gt;F)</th>\n",
       "    </tr>\n",
       "  </thead>\n",
       "  <tbody>\n",
       "    <tr>\n",
       "      <th>C(TRATAMENTO)</th>\n",
       "      <td>132421.0</td>\n",
       "      <td>3.0</td>\n",
       "      <td>0.20263</td>\n",
       "      <td>0.893692</td>\n",
       "    </tr>\n",
       "    <tr>\n",
       "      <th>Residual</th>\n",
       "      <td>6099431.0</td>\n",
       "      <td>28.0</td>\n",
       "      <td>NaN</td>\n",
       "      <td>NaN</td>\n",
       "    </tr>\n",
       "  </tbody>\n",
       "</table>\n",
       "</div>"
      ],
      "text/plain": [
       "                  sum_sq    df        F    PR(>F)\n",
       "C(TRATAMENTO)   132421.0   3.0  0.20263  0.893692\n",
       "Residual       6099431.0  28.0      NaN       NaN"
      ]
     },
     "execution_count": 24,
     "metadata": {},
     "output_type": "execute_result"
    }
   ],
   "source": [
    "aov_table_prod = sm.stats.anova_lm(results_prod, typ=2)\n",
    "aov_table_prod"
   ]
  },
  {
   "cell_type": "code",
   "execution_count": 25,
   "metadata": {},
   "outputs": [
    {
     "data": {
      "text/html": [
       "<div>\n",
       "<style scoped>\n",
       "    .dataframe tbody tr th:only-of-type {\n",
       "        vertical-align: middle;\n",
       "    }\n",
       "\n",
       "    .dataframe tbody tr th {\n",
       "        vertical-align: top;\n",
       "    }\n",
       "\n",
       "    .dataframe thead th {\n",
       "        text-align: right;\n",
       "    }\n",
       "</style>\n",
       "<table border=\"1\" class=\"dataframe\">\n",
       "  <thead>\n",
       "    <tr style=\"text-align: right;\">\n",
       "      <th></th>\n",
       "      <th>sum_sq</th>\n",
       "      <th>df</th>\n",
       "      <th>mean_sq</th>\n",
       "      <th>F</th>\n",
       "      <th>PR(&gt;F)</th>\n",
       "      <th>eta_sq</th>\n",
       "      <th>omega_sq</th>\n",
       "    </tr>\n",
       "  </thead>\n",
       "  <tbody>\n",
       "    <tr>\n",
       "      <th>C(TRATAMENTO)</th>\n",
       "      <td>132421.0</td>\n",
       "      <td>3.0</td>\n",
       "      <td>44140.333333</td>\n",
       "      <td>0.20263</td>\n",
       "      <td>0.893692</td>\n",
       "      <td>0.021249</td>\n",
       "      <td>-0.080793</td>\n",
       "    </tr>\n",
       "    <tr>\n",
       "      <th>Residual</th>\n",
       "      <td>6099431.0</td>\n",
       "      <td>28.0</td>\n",
       "      <td>217836.821429</td>\n",
       "      <td>NaN</td>\n",
       "      <td>NaN</td>\n",
       "      <td>NaN</td>\n",
       "      <td>NaN</td>\n",
       "    </tr>\n",
       "  </tbody>\n",
       "</table>\n",
       "</div>"
      ],
      "text/plain": [
       "                  sum_sq    df        mean_sq        F    PR(>F)    eta_sq  \\\n",
       "C(TRATAMENTO)   132421.0   3.0   44140.333333  0.20263  0.893692  0.021249   \n",
       "Residual       6099431.0  28.0  217836.821429      NaN       NaN       NaN   \n",
       "\n",
       "               omega_sq  \n",
       "C(TRATAMENTO) -0.080793  \n",
       "Residual            NaN  "
      ]
     },
     "execution_count": 25,
     "metadata": {},
     "output_type": "execute_result"
    }
   ],
   "source": [
    "anova_table(aov_table_prod)"
   ]
  },
  {
   "cell_type": "markdown",
   "metadata": {},
   "source": [
    "- O modelo explica 2,1% da variação em numero de plantas."
   ]
  },
  {
   "cell_type": "code",
   "execution_count": 26,
   "metadata": {},
   "outputs": [
    {
     "data": {
      "text/html": [
       "<div>\n",
       "<style scoped>\n",
       "    .dataframe tbody tr th:only-of-type {\n",
       "        vertical-align: middle;\n",
       "    }\n",
       "\n",
       "    .dataframe tbody tr th {\n",
       "        vertical-align: top;\n",
       "    }\n",
       "\n",
       "    .dataframe thead th {\n",
       "        text-align: right;\n",
       "    }\n",
       "</style>\n",
       "<table border=\"1\" class=\"dataframe\">\n",
       "  <thead>\n",
       "    <tr style=\"text-align: right;\">\n",
       "      <th></th>\n",
       "      <th>sum_sq</th>\n",
       "      <th>df</th>\n",
       "      <th>F</th>\n",
       "      <th>PR(&gt;F)</th>\n",
       "    </tr>\n",
       "  </thead>\n",
       "  <tbody>\n",
       "    <tr>\n",
       "      <th>C(TRATAMENTO)</th>\n",
       "      <td>3009.375</td>\n",
       "      <td>3.0</td>\n",
       "      <td>2.556314</td>\n",
       "      <td>0.075322</td>\n",
       "    </tr>\n",
       "    <tr>\n",
       "      <th>Residual</th>\n",
       "      <td>10987.500</td>\n",
       "      <td>28.0</td>\n",
       "      <td>NaN</td>\n",
       "      <td>NaN</td>\n",
       "    </tr>\n",
       "  </tbody>\n",
       "</table>\n",
       "</div>"
      ],
      "text/plain": [
       "                  sum_sq    df         F    PR(>F)\n",
       "C(TRATAMENTO)   3009.375   3.0  2.556314  0.075322\n",
       "Residual       10987.500  28.0       NaN       NaN"
      ]
     },
     "execution_count": 26,
     "metadata": {},
     "output_type": "execute_result"
    }
   ],
   "source": [
    "aov_table_massa = sm.stats.anova_lm(results_massa, typ=2)\n",
    "aov_table_massa"
   ]
  },
  {
   "cell_type": "code",
   "execution_count": 27,
   "metadata": {},
   "outputs": [
    {
     "data": {
      "text/html": [
       "<div>\n",
       "<style scoped>\n",
       "    .dataframe tbody tr th:only-of-type {\n",
       "        vertical-align: middle;\n",
       "    }\n",
       "\n",
       "    .dataframe tbody tr th {\n",
       "        vertical-align: top;\n",
       "    }\n",
       "\n",
       "    .dataframe thead th {\n",
       "        text-align: right;\n",
       "    }\n",
       "</style>\n",
       "<table border=\"1\" class=\"dataframe\">\n",
       "  <thead>\n",
       "    <tr style=\"text-align: right;\">\n",
       "      <th></th>\n",
       "      <th>sum_sq</th>\n",
       "      <th>df</th>\n",
       "      <th>mean_sq</th>\n",
       "      <th>F</th>\n",
       "      <th>PR(&gt;F)</th>\n",
       "      <th>eta_sq</th>\n",
       "      <th>omega_sq</th>\n",
       "    </tr>\n",
       "  </thead>\n",
       "  <tbody>\n",
       "    <tr>\n",
       "      <th>C(TRATAMENTO)</th>\n",
       "      <td>3009.375</td>\n",
       "      <td>3.0</td>\n",
       "      <td>1003.125000</td>\n",
       "      <td>2.556314</td>\n",
       "      <td>0.075322</td>\n",
       "      <td>0.215003</td>\n",
       "      <td>0.127327</td>\n",
       "    </tr>\n",
       "    <tr>\n",
       "      <th>Residual</th>\n",
       "      <td>10987.500</td>\n",
       "      <td>28.0</td>\n",
       "      <td>392.410714</td>\n",
       "      <td>NaN</td>\n",
       "      <td>NaN</td>\n",
       "      <td>NaN</td>\n",
       "      <td>NaN</td>\n",
       "    </tr>\n",
       "  </tbody>\n",
       "</table>\n",
       "</div>"
      ],
      "text/plain": [
       "                  sum_sq    df      mean_sq         F    PR(>F)    eta_sq  \\\n",
       "C(TRATAMENTO)   3009.375   3.0  1003.125000  2.556314  0.075322  0.215003   \n",
       "Residual       10987.500  28.0   392.410714       NaN       NaN       NaN   \n",
       "\n",
       "               omega_sq  \n",
       "C(TRATAMENTO)  0.127327  \n",
       "Residual            NaN  "
      ]
     },
     "execution_count": 27,
     "metadata": {},
     "output_type": "execute_result"
    }
   ],
   "source": [
    "anova_table(aov_table_massa)"
   ]
  },
  {
   "cell_type": "markdown",
   "metadata": {},
   "source": [
    "- O modelo explica 21,5% da variação em numero de plantas."
   ]
  },
  {
   "cell_type": "markdown",
   "metadata": {},
   "source": [
    "# Assumption Checks/Model Diagnostics"
   ]
  },
  {
   "cell_type": "markdown",
   "metadata": {},
   "source": [
    "Aqui conseguimos observar alguns dados que já estão presentes nas tabelas ANOVA, porem de forma mais crua"
   ]
  },
  {
   "cell_type": "code",
   "execution_count": 28,
   "metadata": {},
   "outputs": [
    {
     "data": {
      "text/plain": [
       "{'jb': 1.109511970233142,\n",
       " 'jbpv': 0.57421236046479,\n",
       " 'skew': 0.022540356815834686,\n",
       " 'kurtosis': 2.088900824864101,\n",
       " 'omni': 1.8509772563315223,\n",
       " 'omnipv': 0.3963377099847365,\n",
       " 'condno': 4.79128784747792,\n",
       " 'mineigval': 1.6696972201766398}"
      ]
     },
     "execution_count": 28,
     "metadata": {},
     "output_type": "execute_result"
    }
   ],
   "source": [
    "results_npla.diagn"
   ]
  },
  {
   "cell_type": "code",
   "execution_count": 29,
   "metadata": {},
   "outputs": [
    {
     "data": {
      "text/plain": [
       "{'jb': 0.3202438822391144,\n",
       " 'jbpv': 0.8520398839338378,\n",
       " 'skew': 0.1525018325403159,\n",
       " 'kurtosis': 3.383608753767061,\n",
       " 'omni': 1.121534584600502,\n",
       " 'omnipv': 0.5707709476353833,\n",
       " 'condno': 4.79128784747792,\n",
       " 'mineigval': 1.6696972201766398}"
      ]
     },
     "execution_count": 29,
     "metadata": {},
     "output_type": "execute_result"
    }
   ],
   "source": [
    "results_prod.diagn"
   ]
  },
  {
   "cell_type": "code",
   "execution_count": 30,
   "metadata": {},
   "outputs": [
    {
     "data": {
      "text/plain": [
       "{'jb': 3.502172558347456,\n",
       " 'jbpv': 0.17358527892446307,\n",
       " 'skew': -0.739969484347645,\n",
       " 'kurtosis': 3.6606134026022437,\n",
       " 'omni': 5.059259737087837,\n",
       " 'omnipv': 0.0796885100522749,\n",
       " 'condno': 4.79128784747792,\n",
       " 'mineigval': 1.6696972201766398}"
      ]
     },
     "execution_count": 30,
     "metadata": {},
     "output_type": "execute_result"
    }
   ],
   "source": [
    "results_massa.diagn"
   ]
  },
  {
   "cell_type": "markdown",
   "metadata": {},
   "source": [
    "## Variância de Homogeneidade"
   ]
  },
  {
   "cell_type": "markdown",
   "metadata": {},
   "source": [
    "### Em número de plantas"
   ]
  },
  {
   "cell_type": "code",
   "execution_count": 31,
   "metadata": {},
   "outputs": [
    {
     "data": {
      "text/plain": [
       "LeveneResult(statistic=0.882753594726079, pvalue=0.4619626394066142)"
      ]
     },
     "execution_count": 31,
     "metadata": {},
     "output_type": "execute_result"
    }
   ],
   "source": [
    "stats.levene(matrix['Npla'][matrix['TRATAMENTO'] == 'A'], \n",
    "             matrix['Npla'][matrix['TRATAMENTO'] == 'B'],\n",
    "             matrix['Npla'][matrix['TRATAMENTO'] == 'C'],\n",
    "             matrix['Npla'][matrix['TRATAMENTO'] == 'D'])"
   ]
  },
  {
   "cell_type": "markdown",
   "metadata": {},
   "source": [
    "### Em produtividade gr/parcela "
   ]
  },
  {
   "cell_type": "code",
   "execution_count": 32,
   "metadata": {},
   "outputs": [
    {
     "data": {
      "text/plain": [
       "LeveneResult(statistic=1.2103542435986596, pvalue=0.32419693343482175)"
      ]
     },
     "execution_count": 32,
     "metadata": {},
     "output_type": "execute_result"
    }
   ],
   "source": [
    "stats.levene(matrix['PRODUTIVIDADE'][matrix['TRATAMENTO'] == 'A'], \n",
    "             matrix['PRODUTIVIDADE'][matrix['TRATAMENTO'] == 'B'],\n",
    "             matrix['PRODUTIVIDADE'][matrix['TRATAMENTO'] == 'C'],\n",
    "             matrix['PRODUTIVIDADE'][matrix['TRATAMENTO'] == 'D'])"
   ]
  },
  {
   "cell_type": "markdown",
   "metadata": {},
   "source": [
    "### Em massa mil grãos"
   ]
  },
  {
   "cell_type": "code",
   "execution_count": 33,
   "metadata": {},
   "outputs": [
    {
     "data": {
      "text/plain": [
       "LeveneResult(statistic=0.5935275080906149, pvalue=0.6244518726835835)"
      ]
     },
     "execution_count": 33,
     "metadata": {},
     "output_type": "execute_result"
    }
   ],
   "source": [
    "stats.levene(matrix['Massa_mil'][matrix['TRATAMENTO'] == 'A'], \n",
    "             matrix['Massa_mil'][matrix['TRATAMENTO'] == 'B'],\n",
    "             matrix['Massa_mil'][matrix['TRATAMENTO'] == 'C'],\n",
    "             matrix['Massa_mil'][matrix['TRATAMENTO'] == 'D'])"
   ]
  },
  {
   "cell_type": "markdown",
   "metadata": {},
   "source": [
    "# Normalidade"
   ]
  },
  {
   "cell_type": "markdown",
   "metadata": {},
   "source": [
    "### Em numero de plantas"
   ]
  },
  {
   "cell_type": "code",
   "execution_count": 34,
   "metadata": {},
   "outputs": [
    {
     "data": {
      "text/plain": [
       "ShapiroResult(statistic=0.968481719493866, pvalue=0.4585838317871094)"
      ]
     },
     "execution_count": 34,
     "metadata": {},
     "output_type": "execute_result"
    }
   ],
   "source": [
    "stats.shapiro(results_npla.resid)"
   ]
  },
  {
   "cell_type": "markdown",
   "metadata": {},
   "source": [
    "### Em produtividade "
   ]
  },
  {
   "cell_type": "code",
   "execution_count": 35,
   "metadata": {},
   "outputs": [
    {
     "data": {
      "text/plain": [
       "ShapiroResult(statistic=0.9741491079330444, pvalue=0.6207704544067383)"
      ]
     },
     "execution_count": 35,
     "metadata": {},
     "output_type": "execute_result"
    }
   ],
   "source": [
    "stats.shapiro(results_prod.resid)"
   ]
  },
  {
   "cell_type": "markdown",
   "metadata": {},
   "source": [
    "### Em massa"
   ]
  },
  {
   "cell_type": "code",
   "execution_count": 36,
   "metadata": {},
   "outputs": [
    {
     "data": {
      "text/plain": [
       "ShapiroResult(statistic=0.9329955577850342, pvalue=0.04749016836285591)"
      ]
     },
     "execution_count": 36,
     "metadata": {},
     "output_type": "execute_result"
    }
   ],
   "source": [
    "stats.shapiro(results_massa.resid)"
   ]
  },
  {
   "cell_type": "markdown",
   "metadata": {},
   "source": [
    "# Tukey"
   ]
  },
  {
   "cell_type": "markdown",
   "metadata": {},
   "source": [
    "Dado que através da ANOVA, já se constou que as amostras não apresentam diferença significativa, o teste de tukey não precisaria ter sido rodado, porém, foi realizado para exemplo do que deveria ser feito no caso de uma diferença significativa aparecer na ANOVA."
   ]
  },
  {
   "cell_type": "code",
   "execution_count": 37,
   "metadata": {},
   "outputs": [],
   "source": [
    "from statsmodels.stats.multicomp import pairwise_tukeyhsd\n",
    "from statsmodels.stats.multicomp import MultiComparison"
   ]
  },
  {
   "cell_type": "code",
   "execution_count": 38,
   "metadata": {},
   "outputs": [
    {
     "name": "stdout",
     "output_type": "stream",
     "text": [
      "    Multiple Comparison of Means - Tukey HSD, FWER=0.05    \n",
      "===========================================================\n",
      "group1 group2 meandiff p-adj     lower      upper    reject\n",
      "-----------------------------------------------------------\n",
      "     A      B 3819.375    0.9 -21980.9295 29619.6795  False\n",
      "     A      C 4513.875    0.9 -21286.4295 30314.1795  False\n",
      "     A      D 6944.375 0.8748 -18855.9295 32744.6795  False\n",
      "     B      C    694.5    0.9 -25105.8045 26494.8045  False\n",
      "     B      D   3125.0    0.9 -22675.3045 28925.3045  False\n",
      "     C      D   2430.5    0.9 -23369.8045 28230.8045  False\n",
      "-----------------------------------------------------------\n"
     ]
    }
   ],
   "source": [
    "multi_npla = MultiComparison(matrix['Npla'], matrix['TRATAMENTO'])\n",
    "tukey_npla = multi_npla.tukeyhsd()\n",
    "print(tukey_npla)"
   ]
  },
  {
   "cell_type": "code",
   "execution_count": 39,
   "metadata": {},
   "outputs": [
    {
     "name": "stdout",
     "output_type": "stream",
     "text": [
      "  Multiple Comparison of Means - Tukey HSD, FWER=0.05  \n",
      "=======================================================\n",
      "group1 group2 meandiff p-adj    lower    upper   reject\n",
      "-------------------------------------------------------\n",
      "     A      B  -180.25 0.8542 -817.4087 456.9087  False\n",
      "     A      C    -85.0    0.9 -722.1587 552.1587  False\n",
      "     A      D   -68.75    0.9 -705.9087 568.4087  False\n",
      "     B      C    95.25    0.9 -541.9087 732.4087  False\n",
      "     B      D    111.5    0.9 -525.6587 748.6587  False\n",
      "     C      D    16.25    0.9 -620.9087 653.4087  False\n",
      "-------------------------------------------------------\n"
     ]
    }
   ],
   "source": [
    "multi_prod = MultiComparison(matrix['PRODUTIVIDADE'], matrix['TRATAMENTO'])\n",
    "tukey_prod = multi_prod.tukeyhsd()\n",
    "print(tukey_prod)"
   ]
  },
  {
   "cell_type": "code",
   "execution_count": 40,
   "metadata": {},
   "outputs": [
    {
     "name": "stdout",
     "output_type": "stream",
     "text": [
      " Multiple Comparison of Means - Tukey HSD, FWER=0.05 \n",
      "=====================================================\n",
      "group1 group2 meandiff p-adj   lower    upper  reject\n",
      "-----------------------------------------------------\n",
      "     A      B    11.25 0.6542 -15.7928 38.2928  False\n",
      "     A      C    -15.0  0.444 -42.0428 12.0428  False\n",
      "     A      D     -7.5 0.8625 -34.5428 19.5428  False\n",
      "     B      C   -26.25 0.0596 -53.2928  0.7928  False\n",
      "     B      D   -18.75 0.2539 -45.7928  8.2928  False\n",
      "     C      D      7.5 0.8625 -19.5428 34.5428  False\n",
      "-----------------------------------------------------\n"
     ]
    }
   ],
   "source": [
    "multi_massa = MultiComparison(matrix['Massa_mil'], matrix['TRATAMENTO'])\n",
    "tukey_massa = multi_massa.tukeyhsd()\n",
    "print(tukey_massa)"
   ]
  },
  {
   "cell_type": "markdown",
   "metadata": {},
   "source": [
    "# BONFERRONI CORRECTION POST-HOC COMPARISON"
   ]
  },
  {
   "cell_type": "markdown",
   "metadata": {},
   "source": [
    "Aqui comparamos cada tratamento de forma individual, para ver se alguma das comparações apresenta diferenças estatisticamente significativas."
   ]
  },
  {
   "cell_type": "markdown",
   "metadata": {},
   "source": [
    "## Numero de plantas"
   ]
  },
  {
   "cell_type": "markdown",
   "metadata": {},
   "source": [
    "### Comparando TRATAMENTO A com os demais"
   ]
  },
  {
   "cell_type": "code",
   "execution_count": 41,
   "metadata": {},
   "outputs": [
    {
     "data": {
      "text/plain": [
       "Ttest_indResult(statistic=-0.5225739767314821, pvalue=0.6094414620643112)"
      ]
     },
     "execution_count": 41,
     "metadata": {},
     "output_type": "execute_result"
    }
   ],
   "source": [
    "stats.ttest_ind(matrix['Npla'][matrix['TRATAMENTO'] == 'A'], matrix['Npla'][matrix['TRATAMENTO'] == 'B'])"
   ]
  },
  {
   "cell_type": "code",
   "execution_count": 42,
   "metadata": {},
   "outputs": [
    {
     "data": {
      "text/plain": [
       "Ttest_indResult(statistic=-0.4619534741545486, pvalue=0.6512115142485289)"
      ]
     },
     "execution_count": 42,
     "metadata": {},
     "output_type": "execute_result"
    }
   ],
   "source": [
    "stats.ttest_ind(matrix['Npla'][matrix['TRATAMENTO'] == 'A'], matrix['Npla'][matrix['TRATAMENTO'] == 'C'])"
   ]
  },
  {
   "cell_type": "code",
   "execution_count": 43,
   "metadata": {},
   "outputs": [
    {
     "data": {
      "text/plain": [
       "Ttest_indResult(statistic=-0.766030567539342, pvalue=0.45638031314849437)"
      ]
     },
     "execution_count": 43,
     "metadata": {},
     "output_type": "execute_result"
    }
   ],
   "source": [
    "stats.ttest_ind(matrix['Npla'][matrix['TRATAMENTO'] == 'A'], matrix['Npla'][matrix['TRATAMENTO'] == 'D'])"
   ]
  },
  {
   "cell_type": "markdown",
   "metadata": {},
   "source": [
    "### Comparando TRATAMENTO B com os demais"
   ]
  },
  {
   "cell_type": "code",
   "execution_count": 44,
   "metadata": {},
   "outputs": [
    {
     "data": {
      "text/plain": [
       "Ttest_indResult(statistic=-0.07073200283184261, pvalue=0.9446115136839646)"
      ]
     },
     "execution_count": 44,
     "metadata": {},
     "output_type": "execute_result"
    }
   ],
   "source": [
    "stats.ttest_ind(matrix['Npla'][matrix['TRATAMENTO'] == 'B'], matrix['Npla'][matrix['TRATAMENTO'] == 'C'])"
   ]
  },
  {
   "cell_type": "code",
   "execution_count": 45,
   "metadata": {},
   "outputs": [
    {
     "data": {
      "text/plain": [
       "Ttest_indResult(statistic=-0.3427830111085046, pvalue=0.7368540526126057)"
      ]
     },
     "execution_count": 45,
     "metadata": {},
     "output_type": "execute_result"
    }
   ],
   "source": [
    "stats.ttest_ind(matrix['Npla'][matrix['TRATAMENTO'] == 'B'], matrix['Npla'][matrix['TRATAMENTO'] == 'D'])"
   ]
  },
  {
   "cell_type": "markdown",
   "metadata": {},
   "source": [
    "### Comparando TRATAMENTO C com os demais"
   ]
  },
  {
   "cell_type": "code",
   "execution_count": 46,
   "metadata": {},
   "outputs": [
    {
     "data": {
      "text/plain": [
       "Ttest_indResult(statistic=-0.21724178629405816, pvalue=0.8311540357141467)"
      ]
     },
     "execution_count": 46,
     "metadata": {},
     "output_type": "execute_result"
    }
   ],
   "source": [
    "stats.ttest_ind(matrix['Npla'][matrix['TRATAMENTO'] == 'C'], matrix['Npla'][matrix['TRATAMENTO'] == 'D'])"
   ]
  },
  {
   "cell_type": "markdown",
   "metadata": {},
   "source": [
    "## Produtividade "
   ]
  },
  {
   "cell_type": "markdown",
   "metadata": {},
   "source": [
    "### Comparando TRATAMENTO A com os demais"
   ]
  },
  {
   "cell_type": "code",
   "execution_count": 47,
   "metadata": {},
   "outputs": [
    {
     "data": {
      "text/plain": [
       "Ttest_indResult(statistic=0.9218744002049397, pvalue=0.3722084037243548)"
      ]
     },
     "execution_count": 47,
     "metadata": {},
     "output_type": "execute_result"
    }
   ],
   "source": [
    "stats.ttest_ind(matrix['PRODUTIVIDADE'][matrix['TRATAMENTO'] == 'A'], matrix['PRODUTIVIDADE'][matrix['TRATAMENTO'] == 'B'])"
   ]
  },
  {
   "cell_type": "code",
   "execution_count": 48,
   "metadata": {},
   "outputs": [
    {
     "data": {
      "text/plain": [
       "Ttest_indResult(statistic=0.34726694048438256, pvalue=0.7335558997693308)"
      ]
     },
     "execution_count": 48,
     "metadata": {},
     "output_type": "execute_result"
    }
   ],
   "source": [
    "stats.ttest_ind(matrix['PRODUTIVIDADE'][matrix['TRATAMENTO'] == 'A'], matrix['PRODUTIVIDADE'][matrix['TRATAMENTO'] == 'C'])"
   ]
  },
  {
   "cell_type": "code",
   "execution_count": 49,
   "metadata": {},
   "outputs": [
    {
     "data": {
      "text/plain": [
       "Ttest_indResult(statistic=0.3905089106781994, pvalue=0.7020378015365281)"
      ]
     },
     "execution_count": 49,
     "metadata": {},
     "output_type": "execute_result"
    }
   ],
   "source": [
    "stats.ttest_ind(matrix['PRODUTIVIDADE'][matrix['TRATAMENTO'] == 'A'], matrix['PRODUTIVIDADE'][matrix['TRATAMENTO'] == 'D'])"
   ]
  },
  {
   "cell_type": "markdown",
   "metadata": {},
   "source": [
    "### Comparando TRATAMENTO B com os demais"
   ]
  },
  {
   "cell_type": "code",
   "execution_count": 50,
   "metadata": {},
   "outputs": [
    {
     "data": {
      "text/plain": [
       "Ttest_indResult(statistic=-0.3412160022495988, pvalue=0.7380079396915964)"
      ]
     },
     "execution_count": 50,
     "metadata": {},
     "output_type": "execute_result"
    }
   ],
   "source": [
    "stats.ttest_ind(matrix['PRODUTIVIDADE'][matrix['TRATAMENTO'] == 'B'], matrix['PRODUTIVIDADE'][matrix['TRATAMENTO'] == 'C'])"
   ]
  },
  {
   "cell_type": "code",
   "execution_count": 51,
   "metadata": {},
   "outputs": [
    {
     "data": {
      "text/plain": [
       "Ttest_indResult(statistic=-0.5036706901495229, pvalue=0.6223250077202374)"
      ]
     },
     "execution_count": 51,
     "metadata": {},
     "output_type": "execute_result"
    }
   ],
   "source": [
    "stats.ttest_ind(matrix['PRODUTIVIDADE'][matrix['TRATAMENTO'] == 'B'], matrix['PRODUTIVIDADE'][matrix['TRATAMENTO'] == 'D'])"
   ]
  },
  {
   "cell_type": "markdown",
   "metadata": {},
   "source": [
    "### Comparando TRATAMENTO C com os demais"
   ]
  },
  {
   "cell_type": "code",
   "execution_count": 52,
   "metadata": {},
   "outputs": [
    {
     "data": {
      "text/plain": [
       "Ttest_indResult(statistic=-0.06111952875745774, pvalue=0.9521279803534399)"
      ]
     },
     "execution_count": 52,
     "metadata": {},
     "output_type": "execute_result"
    }
   ],
   "source": [
    "stats.ttest_ind(matrix['PRODUTIVIDADE'][matrix['TRATAMENTO'] == 'C'], matrix['PRODUTIVIDADE'][matrix['TRATAMENTO'] == 'D'])"
   ]
  },
  {
   "cell_type": "markdown",
   "metadata": {},
   "source": [
    "## Massa mil grãos"
   ]
  },
  {
   "cell_type": "markdown",
   "metadata": {},
   "source": [
    "### Comparando TRATAMENTO A com os demais"
   ]
  },
  {
   "cell_type": "code",
   "execution_count": 53,
   "metadata": {},
   "outputs": [
    {
     "data": {
      "text/plain": [
       "Ttest_indResult(statistic=-1.2932773761577272, pvalue=0.21684836425203396)"
      ]
     },
     "execution_count": 53,
     "metadata": {},
     "output_type": "execute_result"
    }
   ],
   "source": [
    "stats.ttest_ind(matrix['Massa_mil'][matrix['TRATAMENTO'] == 'A'], matrix['Massa_mil'][matrix['TRATAMENTO'] == 'B'])"
   ]
  },
  {
   "cell_type": "code",
   "execution_count": 54,
   "metadata": {},
   "outputs": [
    {
     "data": {
      "text/plain": [
       "Ttest_indResult(statistic=1.6733200530681511, pvalue=0.11645184136419628)"
      ]
     },
     "execution_count": 54,
     "metadata": {},
     "output_type": "execute_result"
    }
   ],
   "source": [
    "stats.ttest_ind(matrix['Massa_mil'][matrix['TRATAMENTO'] == 'A'], matrix['Massa_mil'][matrix['TRATAMENTO'] == 'C'])"
   ]
  },
  {
   "cell_type": "code",
   "execution_count": 55,
   "metadata": {},
   "outputs": [
    {
     "data": {
      "text/plain": [
       "Ttest_indResult(statistic=0.9696899027331812, pvalue=0.34865650606184473)"
      ]
     },
     "execution_count": 55,
     "metadata": {},
     "output_type": "execute_result"
    }
   ],
   "source": [
    "stats.ttest_ind(matrix['Massa_mil'][matrix['TRATAMENTO'] == 'A'], matrix['Massa_mil'][matrix['TRATAMENTO'] == 'D'])"
   ]
  },
  {
   "cell_type": "markdown",
   "metadata": {},
   "source": [
    "### Comparando TRATAMENTO B com os demais"
   ]
  },
  {
   "cell_type": "code",
   "execution_count": 56,
   "metadata": {},
   "outputs": [
    {
     "data": {
      "text/plain": [
       "Ttest_indResult(statistic=2.2477484642984717, pvalue=0.041228542061812465)"
      ]
     },
     "execution_count": 56,
     "metadata": {},
     "output_type": "execute_result"
    }
   ],
   "source": [
    "stats.ttest_ind(matrix['Massa_mil'][matrix['TRATAMENTO'] == 'B'], matrix['Massa_mil'][matrix['TRATAMENTO'] == 'C'])"
   ]
  },
  {
   "cell_type": "code",
   "execution_count": 57,
   "metadata": {},
   "outputs": [
    {
     "data": {
      "text/plain": [
       "Ttest_indResult(statistic=1.7420338920138307, pvalue=0.10341781625430495)"
      ]
     },
     "execution_count": 57,
     "metadata": {},
     "output_type": "execute_result"
    }
   ],
   "source": [
    "stats.ttest_ind(matrix['Massa_mil'][matrix['TRATAMENTO'] == 'B'], matrix['Massa_mil'][matrix['TRATAMENTO'] == 'D'])"
   ]
  },
  {
   "cell_type": "markdown",
   "metadata": {},
   "source": [
    "### Comparando TRATAMENTO C com os demais"
   ]
  },
  {
   "cell_type": "code",
   "execution_count": 58,
   "metadata": {},
   "outputs": [
    {
     "data": {
      "text/plain": [
       "Ttest_indResult(statistic=-0.6831300510639732, pvalue=0.5056732339622882)"
      ]
     },
     "execution_count": 58,
     "metadata": {},
     "output_type": "execute_result"
    }
   ],
   "source": [
    "stats.ttest_ind(matrix['Massa_mil'][matrix['TRATAMENTO'] == 'C'], matrix['Massa_mil'][matrix['TRATAMENTO'] == 'D'])"
   ]
  },
  {
   "cell_type": "code",
   "execution_count": null,
   "metadata": {},
   "outputs": [],
   "source": []
  }
 ],
 "metadata": {
  "kernelspec": {
   "display_name": "Python 3",
   "language": "python",
   "name": "python3"
  },
  "language_info": {
   "codemirror_mode": {
    "name": "ipython",
    "version": 3
   },
   "file_extension": ".py",
   "mimetype": "text/x-python",
   "name": "python",
   "nbconvert_exporter": "python",
   "pygments_lexer": "ipython3",
   "version": "3.8.5"
  }
 },
 "nbformat": 4,
 "nbformat_minor": 4
}
